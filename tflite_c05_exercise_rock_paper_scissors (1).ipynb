{
  "nbformat": 4,
  "nbformat_minor": 0,
  "metadata": {
    "accelerator": "GPU",
    "colab": {
      "name": "tflite_c05_exercise_rock_paper_scissors.ipynb",
      "provenance": [],
      "collapsed_sections": []
    },
    "kernelspec": {
      "display_name": "Python 3",
      "name": "python3"
    }
  },
  "cells": [
    {
      "cell_type": "markdown",
      "metadata": {
        "id": "oYM61xrTsP5d"
      },
      "source": [
        "# Rock, Paper & Scissors with TensorFlow Hub - TFLite"
      ]
    },
    {
      "cell_type": "markdown",
      "metadata": {
        "id": "bL54LWCHt5q5"
      },
      "source": [
        "## Setup"
      ]
    },
    {
      "cell_type": "code",
      "metadata": {
        "id": "dlauq-4FWGZM",
        "outputId": "7139f05d-9084-4108-d9ba-171b6225c529",
        "colab": {
          "base_uri": "https://localhost:8080/"
        }
      },
      "source": [
        "import os\n",
        "\n",
        "import matplotlib.pylab as plt\n",
        "import numpy as np\n",
        "\n",
        "import tensorflow as tf\n",
        "import tensorflow_hub as hub\n",
        "\n",
        "print(\"Version: \", tf.__version__)\n",
        "print(\"Eager mode: \", tf.executing_eagerly())\n",
        "print(\"Hub version: \", hub.__version__)\n",
        "print(\"GPU is\", \"available\" if tf.test.is_gpu_available() else \"NOT AVAILABLE\")"
      ],
      "execution_count": 1,
      "outputs": [
        {
          "output_type": "stream",
          "text": [
            "Version:  2.5.0\n",
            "Eager mode:  True\n",
            "Hub version:  0.12.0\n",
            "WARNING:tensorflow:From <ipython-input-1-a0f6ed6aa1b7>:12: is_gpu_available (from tensorflow.python.framework.test_util) is deprecated and will be removed in a future version.\n",
            "Instructions for updating:\n",
            "Use `tf.config.list_physical_devices('GPU')` instead.\n",
            "GPU is NOT AVAILABLE\n"
          ],
          "name": "stdout"
        }
      ]
    },
    {
      "cell_type": "markdown",
      "metadata": {
        "id": "mmaHHH7Pvmth"
      },
      "source": [
        "## Select the Hub/TF2 module to use\n",
        "\n",
        "Hub modules for TF 1.x won't work here, please use one of the selections provided."
      ]
    },
    {
      "cell_type": "code",
      "metadata": {
        "id": "FlsEcKVeuCnf",
        "outputId": "464eafe0-601d-4bf4-bf10-726f39579c32",
        "colab": {
          "base_uri": "https://localhost:8080/"
        }
      },
      "source": [
        "module_selection = (\"mobilenet_v2\", 224, 1280)\n",
        "handle_base, pixels, FV_SIZE = module_selection\n",
        "MODULE_HANDLE =\"https://tfhub.dev/google/tf2-preview/{}/feature_vector/4\".format(handle_base)\n",
        "IMAGE_SIZE = (pixels, pixels)\n",
        "print(\"Using {} with input size {} and output dimension {}\".format(\n",
        "  MODULE_HANDLE, IMAGE_SIZE, FV_SIZE))"
      ],
      "execution_count": 2,
      "outputs": [
        {
          "output_type": "stream",
          "text": [
            "Using https://tfhub.dev/google/tf2-preview/mobilenet_v2/feature_vector/4 with input size (224, 224) and output dimension 1280\n"
          ],
          "name": "stdout"
        }
      ]
    },
    {
      "cell_type": "markdown",
      "metadata": {
        "id": "sYUsgwCBv87A"
      },
      "source": [
        "## Data preprocessing"
      ]
    },
    {
      "cell_type": "markdown",
      "metadata": {
        "id": "8nqVX3KYwGPh"
      },
      "source": [
        "Use [TensorFlow Datasets](http://tensorflow.org/datasets) to load the rock, paper and scissors dataset.\n",
        "\n",
        "This `tfds` package is the easiest way to load pre-defined data. If you have your own data, and are interested in importing using it with TensorFlow see [loading image data](../load_data/images.ipynb)\n"
      ]
    },
    {
      "cell_type": "code",
      "metadata": {
        "id": "jGvpkDj4wBup"
      },
      "source": [
        "import tensorflow_datasets as tfds\n",
        "tfds.disable_progress_bar()"
      ],
      "execution_count": 3,
      "outputs": []
    },
    {
      "cell_type": "markdown",
      "metadata": {
        "id": "YkF4Boe5wN7N"
      },
      "source": [
        "The `tfds.load` method downloads and caches the data, and returns a `tf.data.Dataset` object. These objects provide powerful, efficient methods for manipulating data and piping it into your model.\n",
        "\n",
        "Since `\"rock_paper_scissors\"` doesn't define standard splits, use the subsplit feature to divide it into (train, validation, test) with 80%, 10%, 10% of the data respectively."
      ]
    },
    {
      "cell_type": "code",
      "metadata": {
        "id": "SQ9xK9F2wGD8",
        "outputId": "30a621b9-adee-4c75-ac04-ab363cf38df1",
        "colab": {
          "base_uri": "https://localhost:8080/"
        }
      },
      "source": [
        "(train_examples, validation_examples, test_examples), info = tfds.load(\n",
        "    'rock_paper_scissors',\n",
        "    split=['train[80%:]', 'train[80%:90%]', 'train[90%:]'],\n",
        "    with_info=True, \n",
        "    as_supervised=True, \n",
        ")\n",
        "\n",
        "num_examples = info.splits['train'].num_examples\n",
        "num_classes = info.features['label'].num_classes"
      ],
      "execution_count": 4,
      "outputs": [
        {
          "output_type": "stream",
          "text": [
            "\u001b[1mDownloading and preparing dataset rock_paper_scissors/3.0.0 (download: 219.53 MiB, generated: Unknown size, total: 219.53 MiB) to /root/tensorflow_datasets/rock_paper_scissors/3.0.0...\u001b[0m\n",
            "Shuffling and writing examples to /root/tensorflow_datasets/rock_paper_scissors/3.0.0.incompleteUN1X5G/rock_paper_scissors-train.tfrecord\n",
            "Shuffling and writing examples to /root/tensorflow_datasets/rock_paper_scissors/3.0.0.incompleteUN1X5G/rock_paper_scissors-test.tfrecord\n",
            "\u001b[1mDataset rock_paper_scissors downloaded and prepared to /root/tensorflow_datasets/rock_paper_scissors/3.0.0. Subsequent calls will reuse this data.\u001b[0m\n"
          ],
          "name": "stdout"
        }
      ]
    },
    {
      "cell_type": "code",
      "metadata": {
        "id": "hsOiZzpp_CN_",
        "outputId": "43ee6ae4-ec61-48dd-cb73-bfae04c2e640",
        "colab": {
          "base_uri": "https://localhost:8080/"
        }
      },
      "source": [
        "num_classes"
      ],
      "execution_count": 5,
      "outputs": [
        {
          "output_type": "execute_result",
          "data": {
            "text/plain": [
              "3"
            ]
          },
          "metadata": {
            "tags": []
          },
          "execution_count": 5
        }
      ]
    },
    {
      "cell_type": "markdown",
      "metadata": {
        "id": "pmXQYXNWwf19"
      },
      "source": [
        "### Format the Data\n",
        "\n",
        "Use the `tf.image` module to format the images for the task.\n",
        "\n",
        "Resize the images to a fixes input size, and rescale the input channels"
      ]
    },
    {
      "cell_type": "code",
      "metadata": {
        "id": "y7UyXblSwkUS"
      },
      "source": [
        "def format_image(image, label):\n",
        "  image = tf.image.resize(image, IMAGE_SIZE) / 255.0\n",
        "  return  image, label\n"
      ],
      "execution_count": 6,
      "outputs": []
    },
    {
      "cell_type": "markdown",
      "metadata": {
        "id": "1nrDR8CnwrVk"
      },
      "source": [
        "Now shuffle and batch the data\n"
      ]
    },
    {
      "cell_type": "code",
      "metadata": {
        "id": "zAEUG7vawxLm"
      },
      "source": [
        "BATCH_SIZE = 32 "
      ],
      "execution_count": 7,
      "outputs": []
    },
    {
      "cell_type": "code",
      "metadata": {
        "id": "fHEC9mbswxvM"
      },
      "source": [
        "# Prepare the examples by preprocessing them and then batching them (and optionally prefetching them)\n",
        "\n",
        "# If you wish you can shuffle train set here\n",
        "train_batches = train_examples.shuffle(num_examples // 4).map(format_image).batch(BATCH_SIZE).prefetch(1)\n",
        "validation_batches = validation_examples.map(format_image).batch(BATCH_SIZE).prefetch(1)\n",
        "test_batches = test_examples.map(format_image).batch(1)"
      ],
      "execution_count": 8,
      "outputs": []
    },
    {
      "cell_type": "markdown",
      "metadata": {
        "id": "ghQhZjgEw1cK"
      },
      "source": [
        "Inspect a batch"
      ]
    },
    {
      "cell_type": "code",
      "metadata": {
        "id": "gz0xsMCjwx54",
        "outputId": "501e6a0c-f4ca-49ed-bcc9-284b6ff8e06c",
        "colab": {
          "base_uri": "https://localhost:8080/"
        }
      },
      "source": [
        "for image_batch, label_batch in train_batches.take(1):\n",
        "  pass\n",
        "\n",
        "image_batch.shape"
      ],
      "execution_count": 9,
      "outputs": [
        {
          "output_type": "execute_result",
          "data": {
            "text/plain": [
              "TensorShape([32, 224, 224, 3])"
            ]
          },
          "metadata": {
            "tags": []
          },
          "execution_count": 9
        }
      ]
    },
    {
      "cell_type": "markdown",
      "metadata": {
        "id": "FS_gVStowW3G"
      },
      "source": [
        "## Defining the model\n",
        "\n",
        "All it takes is to put a linear classifier on top of the `feature_extractor_layer` with the Hub module.\n",
        "\n",
        "For speed, we start out with a non-trainable `feature_extractor_layer`, but you can also enable fine-tuning for greater accuracy."
      ]
    },
    {
      "cell_type": "code",
      "metadata": {
        "id": "RaJW3XrPyFiF"
      },
      "source": [
        "do_fine_tuning = False"
      ],
      "execution_count": 42,
      "outputs": []
    },
    {
      "cell_type": "code",
      "metadata": {
        "id": "50FYNIb1dmJH",
        "outputId": "a3efc8f5-b447-4cd7-d572-4c32d94ecd3d",
        "colab": {
          "base_uri": "https://localhost:8080/"
        }
      },
      "source": [
        "# Build the model with a TFHub KerasLayer and attach a classification head to it\n",
        "print(\"Building model with\", MODULE_HANDLE)\n",
        "model = tf.keras.Sequential([\n",
        "    hub.KerasLayer(MODULE_HANDLE,\n",
        "                   input_shape=IMAGE_SIZE + (3, ), \n",
        "                   output_shape=[FV_SIZE],\n",
        "                   trainable=do_fine_tuning),\n",
        "    tf.keras.layers.Dense(num_classes, activation= 'softmax')\n",
        "])\n",
        "model.summary()"
      ],
      "execution_count": 49,
      "outputs": [
        {
          "output_type": "stream",
          "text": [
            "Building model with https://tfhub.dev/google/tf2-preview/mobilenet_v2/feature_vector/4\n",
            "Model: \"sequential_3\"\n",
            "_________________________________________________________________\n",
            "Layer (type)                 Output Shape              Param #   \n",
            "=================================================================\n",
            "keras_layer_3 (KerasLayer)   (None, 1280)              2257984   \n",
            "_________________________________________________________________\n",
            "dense_3 (Dense)              (None, 3)                 3843      \n",
            "=================================================================\n",
            "Total params: 2,261,827\n",
            "Trainable params: 3,843\n",
            "Non-trainable params: 2,257,984\n",
            "_________________________________________________________________\n"
          ],
          "name": "stdout"
        }
      ]
    },
    {
      "cell_type": "code",
      "metadata": {
        "id": "vQtgvpXd_dSx",
        "outputId": "41cbcff4-20c5-4c85-ec4d-3516077dbc67",
        "colab": {
          "base_uri": "https://localhost:8080/",
          "height": 312
        }
      },
      "source": [
        "tf.keras.utils.plot_model(model, 'multilayer_model.png', show_shapes=True, show_dtype=True, show_layer_names=True)"
      ],
      "execution_count": 50,
      "outputs": [
        {
          "output_type": "execute_result",
          "data": {
            "image/png": "[encoded data removed]",
            "text/plain": [
              "<IPython.core.display.Image object>"
            ]
          },
          "metadata": {
            "tags": []
          },
          "execution_count": 50
        }
      ]
    },
    {
      "cell_type": "markdown",
      "metadata": {
        "id": "u2e5WupIw2N2"
      },
      "source": [
        "## Training the model"
      ]
    },
    {
      "cell_type": "code",
      "metadata": {
        "id": "9f3yBUvkd_VJ"
      },
      "source": [
        "if do_fine_tuning:\n",
        "  model.compile(\n",
        "    optimizer=tf.keras.optimizers.SGD(lr=0.002, momentum=0.9), \n",
        "    loss = tf.keras.losses.SparseCategoricalCrossentropy(from_logits=True),\n",
        "    metrics=['accuracy'])\n",
        "else:\n",
        "  model.compile(\n",
        "    optimizer='adam', \n",
        "    loss = tf.keras.losses.SparseCategoricalCrossentropy(from_logits=True),\n",
        "    metrics=['accuracy'])"
      ],
      "execution_count": 51,
      "outputs": []
    },
    {
      "cell_type": "code",
      "metadata": {
        "id": "w_YKX2Qnfg6x",
        "outputId": "7ca5461a-50e9-4465-c918-b614f98d0173",
        "colab": {
          "base_uri": "https://localhost:8080/"
        }
      },
      "source": [
        "EPOCHS = 5\n",
        "hist = model.fit(train_batches,\n",
        "                    epochs=EPOCHS,\n",
        "                    validation_data=validation_batches)"
      ],
      "execution_count": 52,
      "outputs": [
        {
          "output_type": "stream",
          "text": [
            "Epoch 1/5\n"
          ],
          "name": "stdout"
        },
        {
          "output_type": "stream",
          "text": [
            "/usr/local/lib/python3.7/dist-packages/tensorflow/python/keras/backend.py:4930: UserWarning: \"`sparse_categorical_crossentropy` received `from_logits=True`, but the `output` argument was produced by a sigmoid or softmax activation and thus does not represent logits. Was this intended?\"\n",
            "  '\"`sparse_categorical_crossentropy` received `from_logits=True`, but '\n"
          ],
          "name": "stderr"
        },
        {
          "output_type": "stream",
          "text": [
            "16/16 [==============================] - 24s 1s/step - loss: 0.9202 - accuracy: 0.5873 - val_loss: 0.4826 - val_accuracy: 0.9246\n",
            "Epoch 2/5\n",
            "16/16 [==============================] - 20s 1s/step - loss: 0.3464 - accuracy: 0.9444 - val_loss: 0.2311 - val_accuracy: 0.9762\n",
            "Epoch 3/5\n",
            "16/16 [==============================] - 21s 1s/step - loss: 0.1834 - accuracy: 0.9802 - val_loss: 0.1425 - val_accuracy: 0.9841\n",
            "Epoch 4/5\n",
            "16/16 [==============================] - 21s 1s/step - loss: 0.1258 - accuracy: 0.9861 - val_loss: 0.1104 - val_accuracy: 0.9921\n",
            "Epoch 5/5\n",
            "16/16 [==============================] - 21s 1s/step - loss: 0.1033 - accuracy: 0.9861 - val_loss: 0.0864 - val_accuracy: 0.9881\n"
          ],
          "name": "stdout"
        }
      ]
    },
    {
      "cell_type": "code",
      "metadata": {
        "id": "lJeLYmNoLF84",
        "outputId": "091ee2be-76df-4982-9c53-b6a5131013d0",
        "colab": {
          "base_uri": "https://localhost:8080/"
        }
      },
      "source": [
        "model.predict_proba(validation_batches)"
      ],
      "execution_count": 53,
      "outputs": [
        {
          "output_type": "stream",
          "text": [
            "/usr/local/lib/python3.7/dist-packages/tensorflow/python/keras/engine/sequential.py:430: UserWarning: `model.predict_proba()` is deprecated and will be removed after 2021-01-01. Please use `model.predict()` instead.\n",
            "  warnings.warn('`model.predict_proba()` is deprecated and '\n"
          ],
          "name": "stderr"
        },
        {
          "output_type": "execute_result",
          "data": {
            "text/plain": [
              "array([[1.03961602e-02, 3.34361270e-02, 9.56167638e-01],\n",
              "       [1.32315829e-02, 8.14135447e-02, 9.05354857e-01],\n",
              "       [5.19773781e-01, 4.64604735e-01, 1.56214377e-02],\n",
              "       [9.89021003e-01, 6.77828677e-03, 4.20068204e-03],\n",
              "       [9.86806810e-01, 4.83208755e-03, 8.36111419e-03],\n",
              "       [9.60219502e-01, 9.23781004e-03, 3.05426735e-02],\n",
              "       [3.58928577e-03, 9.93642807e-01, 2.76789092e-03],\n",
              "       [9.81260929e-03, 5.38550271e-03, 9.84801829e-01],\n",
              "       [1.68760434e-01, 7.09093273e-01, 1.22146294e-01],\n",
              "       [6.11000508e-03, 4.01535025e-03, 9.89874721e-01],\n",
              "       [2.08179597e-02, 9.53641474e-01, 2.55405381e-02],\n",
              "       [9.19425786e-01, 3.05422372e-03, 7.75200278e-02],\n",
              "       [9.82454598e-01, 6.82752859e-03, 1.07179154e-02],\n",
              "       [9.11069475e-03, 3.45675126e-02, 9.56321776e-01],\n",
              "       [6.75312243e-03, 2.42390800e-02, 9.69007730e-01],\n",
              "       [9.90351021e-01, 9.53438226e-03, 1.14682720e-04],\n",
              "       [9.83160913e-01, 4.54680715e-03, 1.22923125e-02],\n",
              "       [7.99787603e-03, 9.54960585e-01, 3.70415598e-02],\n",
              "       [3.41850333e-02, 9.51362789e-01, 1.44521846e-02],\n",
              "       [5.00285532e-03, 1.00647733e-02, 9.84932363e-01],\n",
              "       [1.90207232e-02, 6.94991946e-02, 9.11480069e-01],\n",
              "       [1.02361694e-01, 7.71463513e-02, 8.20491970e-01],\n",
              "       [2.73924489e-02, 5.97648229e-03, 9.66631055e-01],\n",
              "       [8.20913818e-03, 9.65418696e-01, 2.63721701e-02],\n",
              "       [1.21690668e-02, 1.83104798e-02, 9.69520450e-01],\n",
              "       [9.53744471e-01, 4.15288210e-02, 4.72672051e-03],\n",
              "       [1.06649799e-02, 2.40078047e-02, 9.65327263e-01],\n",
              "       [7.47613609e-01, 4.50365022e-02, 2.07349911e-01],\n",
              "       [9.19396222e-01, 5.73010631e-02, 2.33027767e-02],\n",
              "       [1.11122452e-01, 7.89298713e-01, 9.95788649e-02],\n",
              "       [9.07966375e-01, 2.90659512e-03, 8.91269520e-02],\n",
              "       [5.73206954e-02, 3.78642142e-01, 5.64037204e-01],\n",
              "       [9.47967470e-01, 2.64533591e-02, 2.55790893e-02],\n",
              "       [3.04761101e-02, 4.42219116e-02, 9.25301969e-01],\n",
              "       [1.01638911e-02, 9.11835134e-01, 7.80009031e-02],\n",
              "       [9.77851450e-01, 1.72597403e-03, 2.04226263e-02],\n",
              "       [9.70640592e-03, 8.80807340e-01, 1.09486260e-01],\n",
              "       [7.78327417e-03, 2.78094262e-02, 9.64407325e-01],\n",
              "       [8.32230318e-03, 3.77547145e-02, 9.53922987e-01],\n",
              "       [2.37499252e-02, 9.47517872e-01, 2.87321229e-02],\n",
              "       [7.64766429e-03, 5.56045212e-02, 9.36747849e-01],\n",
              "       [1.14521421e-01, 2.27575116e-02, 8.62721086e-01],\n",
              "       [9.46563423e-01, 1.02940472e-02, 4.31424417e-02],\n",
              "       [4.82529821e-03, 9.95775219e-03, 9.85216916e-01],\n",
              "       [7.70497844e-02, 8.74851465e-01, 4.80987765e-02],\n",
              "       [6.42531216e-01, 3.47114503e-01, 1.03542749e-02],\n",
              "       [2.86573302e-02, 3.76550332e-02, 9.33687627e-01],\n",
              "       [2.70655192e-02, 7.90008426e-01, 1.82926074e-01],\n",
              "       [9.80785429e-01, 2.95244716e-03, 1.62621401e-02],\n",
              "       [5.70292259e-03, 2.96595860e-02, 9.64637458e-01],\n",
              "       [9.94841278e-01, 2.61378731e-03, 2.54491786e-03],\n",
              "       [1.25980340e-02, 2.47856695e-03, 9.84923363e-01],\n",
              "       [4.28878888e-02, 9.27816927e-01, 2.92951819e-02],\n",
              "       [9.39913929e-01, 5.68525679e-02, 3.23347258e-03],\n",
              "       [9.87023234e-01, 2.67223478e-03, 1.03044910e-02],\n",
              "       [2.01629307e-02, 8.78570415e-03, 9.71051395e-01],\n",
              "       [1.19764227e-02, 9.81019080e-01, 7.00451760e-03],\n",
              "       [9.98472035e-01, 1.33583043e-03, 1.92108608e-04],\n",
              "       [1.07461307e-02, 4.18919139e-02, 9.47362006e-01],\n",
              "       [1.00139640e-02, 9.12616134e-01, 7.73698539e-02],\n",
              "       [3.42848688e-01, 4.53294724e-01, 2.03856543e-01],\n",
              "       [1.79661572e-01, 8.15264702e-01, 5.07377507e-03],\n",
              "       [9.27610517e-01, 4.50316183e-02, 2.73578968e-02],\n",
              "       [1.40235182e-02, 4.58753034e-02, 9.40101147e-01],\n",
              "       [5.32099418e-03, 9.89054322e-01, 5.62468823e-03],\n",
              "       [3.90173718e-02, 2.89926361e-02, 9.31989968e-01],\n",
              "       [9.72504199e-01, 5.14263380e-03, 2.23531798e-02],\n",
              "       [9.70286224e-03, 9.54106688e-01, 3.61904651e-02],\n",
              "       [9.71814752e-01, 2.24087797e-02, 5.77653619e-03],\n",
              "       [6.77494518e-03, 2.78686345e-01, 7.14538634e-01],\n",
              "       [3.19730416e-02, 9.46979523e-01, 2.10474152e-02],\n",
              "       [3.43931653e-03, 9.59227562e-01, 3.73331383e-02],\n",
              "       [7.09375963e-02, 8.01445007e-01, 1.27617434e-01],\n",
              "       [2.28900788e-03, 3.55630741e-03, 9.94154751e-01],\n",
              "       [7.32497452e-03, 5.96446637e-03, 9.86710608e-01],\n",
              "       [1.61820985e-02, 9.76963699e-01, 6.85421517e-03],\n",
              "       [1.83920674e-02, 9.63123560e-01, 1.84843149e-02],\n",
              "       [7.12165656e-03, 3.05254362e-03, 9.89825785e-01],\n",
              "       [2.41673589e-02, 5.66282511e-01, 4.09550101e-01],\n",
              "       [2.23619603e-02, 6.59319401e-01, 3.18318635e-01],\n",
              "       [9.92925048e-01, 3.88223468e-03, 3.19265202e-03],\n",
              "       [2.20996211e-03, 9.96065795e-01, 1.72419241e-03],\n",
              "       [8.08831006e-02, 8.79525006e-01, 3.95919494e-02],\n",
              "       [9.71924543e-01, 2.41851211e-02, 3.89028131e-03],\n",
              "       [9.86057401e-01, 1.37582347e-02, 1.84427190e-04],\n",
              "       [3.21420394e-02, 2.20889822e-02, 9.45769012e-01],\n",
              "       [1.23153133e-02, 2.55775638e-03, 9.85126913e-01],\n",
              "       [6.21023867e-03, 8.81867886e-01, 1.11921877e-01],\n",
              "       [2.61375098e-03, 5.43786259e-03, 9.91948366e-01],\n",
              "       [4.89101298e-02, 6.31831288e-02, 8.87906730e-01],\n",
              "       [6.58373833e-02, 8.53041947e-01, 8.11206847e-02],\n",
              "       [1.46906087e-02, 1.56505611e-02, 9.69658852e-01],\n",
              "       [2.31983364e-02, 1.96569879e-02, 9.57144618e-01],\n",
              "       [4.47701924e-02, 1.20480768e-02, 9.43181694e-01],\n",
              "       [9.83634591e-01, 1.24666141e-02, 3.89885344e-03],\n",
              "       [7.78467581e-03, 4.37016040e-02, 9.48513746e-01],\n",
              "       [1.59285218e-02, 4.55193482e-02, 9.38552141e-01],\n",
              "       [6.42497977e-03, 9.52907443e-01, 4.06675786e-02],\n",
              "       [2.08498864e-03, 5.00624487e-03, 9.92908835e-01],\n",
              "       [3.17447595e-02, 9.30933356e-01, 3.73218767e-02],\n",
              "       [9.45995450e-01, 8.52497108e-03, 4.54795472e-02],\n",
              "       [6.97138309e-02, 9.17756081e-01, 1.25301229e-02],\n",
              "       [1.16225872e-02, 9.69780147e-01, 1.85971856e-02],\n",
              "       [1.06135048e-02, 9.38144863e-01, 5.12416139e-02],\n",
              "       [1.33276754e-03, 9.87222612e-01, 1.14446068e-02],\n",
              "       [4.27248068e-02, 9.12581682e-01, 4.46934290e-02],\n",
              "       [1.77853238e-02, 9.76146400e-01, 6.06822269e-03],\n",
              "       [9.00819525e-03, 9.46606696e-01, 4.43850160e-02],\n",
              "       [2.47430499e-03, 2.21885480e-02, 9.75337207e-01],\n",
              "       [1.09579703e-02, 2.26378590e-02, 9.66404200e-01],\n",
              "       [6.40924973e-03, 2.63568014e-01, 7.30022728e-01],\n",
              "       [4.30651382e-03, 9.87820029e-01, 7.87353329e-03],\n",
              "       [9.28825319e-01, 4.31961380e-02, 2.79786084e-02],\n",
              "       [1.58349611e-02, 9.43285406e-01, 4.08796407e-02],\n",
              "       [4.46235202e-03, 1.42699955e-02, 9.81267691e-01],\n",
              "       [1.03756608e-02, 1.72984432e-02, 9.72325981e-01],\n",
              "       [1.35784282e-03, 9.84490454e-01, 1.41516924e-02],\n",
              "       [9.81181145e-01, 1.10934908e-03, 1.77095812e-02],\n",
              "       [9.98141885e-01, 1.73060771e-03, 1.27593681e-04],\n",
              "       [7.60227849e-04, 9.97965932e-01, 1.27388956e-03],\n",
              "       [9.67343986e-01, 2.48755235e-02, 7.78054353e-03],\n",
              "       [2.47166380e-02, 4.99496982e-02, 9.25333679e-01],\n",
              "       [1.31436102e-02, 9.82211888e-01, 4.64453641e-03],\n",
              "       [7.36334082e-03, 2.17267144e-02, 9.70910013e-01],\n",
              "       [1.62875708e-02, 3.18646915e-02, 9.51847672e-01],\n",
              "       [9.78356898e-01, 1.89402346e-02, 2.70290044e-03],\n",
              "       [1.31361615e-02, 1.75520200e-02, 9.69311833e-01],\n",
              "       [9.84250784e-01, 1.38120838e-02, 1.93714933e-03],\n",
              "       [1.49322683e-02, 9.84238744e-01, 8.28911259e-04],\n",
              "       [1.09885089e-01, 8.37551057e-01, 5.25639392e-02],\n",
              "       [6.76217377e-02, 8.83154333e-01, 4.92239371e-02],\n",
              "       [1.54931778e-02, 4.04599123e-02, 9.44046855e-01],\n",
              "       [2.34034993e-02, 9.65987563e-01, 1.06089842e-02],\n",
              "       [1.82662380e-03, 2.13294197e-02, 9.76843894e-01],\n",
              "       [1.21784639e-02, 9.75401163e-01, 1.24203330e-02],\n",
              "       [9.30039942e-01, 5.71949407e-02, 1.27650686e-02],\n",
              "       [9.85155284e-01, 1.05531327e-03, 1.37894284e-02],\n",
              "       [5.27449511e-03, 9.53063250e-01, 4.16622646e-02],\n",
              "       [2.96755787e-02, 9.22177076e-01, 4.81473207e-02],\n",
              "       [9.85207081e-01, 1.41935917e-02, 5.99316903e-04],\n",
              "       [9.51443195e-01, 2.34038034e-03, 4.62164879e-02],\n",
              "       [9.51132357e-01, 3.62959169e-02, 1.25716664e-02],\n",
              "       [4.57603671e-02, 9.25822496e-01, 2.84171943e-02],\n",
              "       [2.28496790e-02, 3.53117585e-02, 9.41838622e-01],\n",
              "       [1.60239656e-02, 7.01251507e-01, 2.82724559e-01],\n",
              "       [9.88392055e-01, 1.00957751e-02, 1.51214015e-03],\n",
              "       [8.25911481e-03, 2.70738490e-02, 9.64667082e-01],\n",
              "       [9.30745620e-03, 6.38800487e-03, 9.84304488e-01],\n",
              "       [9.20997500e-01, 7.70016387e-02, 2.00082944e-03],\n",
              "       [5.22430288e-03, 9.49692130e-01, 4.50835340e-02],\n",
              "       [6.97800219e-02, 4.61264439e-02, 8.84093523e-01],\n",
              "       [5.40151261e-02, 9.45668280e-01, 3.16663267e-04],\n",
              "       [9.40392166e-03, 9.31772590e-01, 5.88234477e-02],\n",
              "       [8.59028101e-03, 8.81388426e-01, 1.10021330e-01],\n",
              "       [9.26594675e-01, 2.30772514e-02, 5.03280535e-02],\n",
              "       [6.07964443e-03, 2.70210672e-02, 9.66899216e-01],\n",
              "       [1.80584621e-02, 9.05891538e-01, 7.60500953e-02],\n",
              "       [9.39813733e-01, 4.43371721e-02, 1.58490520e-02],\n",
              "       [5.93002476e-02, 9.05725539e-01, 3.49742882e-02],\n",
              "       [9.44737732e-01, 3.07668820e-02, 2.44954005e-02],\n",
              "       [1.83643568e-02, 9.74344492e-01, 7.29118986e-03],\n",
              "       [3.10052391e-02, 2.93163192e-02, 9.39678431e-01],\n",
              "       [9.53924060e-01, 1.79615393e-02, 2.81144194e-02],\n",
              "       [7.04358742e-02, 9.28020239e-01, 1.54385238e-03],\n",
              "       [1.21679872e-01, 8.34523290e-02, 7.94867814e-01],\n",
              "       [6.42767102e-02, 9.09542322e-01, 2.61809323e-02],\n",
              "       [9.09969732e-02, 4.64498341e-01, 4.44504678e-01],\n",
              "       [1.50819458e-02, 2.20621452e-02, 9.62855935e-01],\n",
              "       [9.61148739e-01, 3.57830226e-02, 3.06822569e-03],\n",
              "       [9.93678629e-01, 3.89730302e-03, 2.42402498e-03],\n",
              "       [2.07762630e-03, 2.18765102e-02, 9.76045907e-01],\n",
              "       [8.89970779e-01, 6.38349261e-03, 1.03645764e-01],\n",
              "       [9.68624830e-01, 4.61493712e-03, 2.67601497e-02],\n",
              "       [2.13556197e-02, 6.32275315e-03, 9.72321689e-01],\n",
              "       [3.34206526e-03, 5.15865944e-02, 9.45071340e-01],\n",
              "       [9.89861965e-01, 9.12146643e-03, 1.01654581e-03],\n",
              "       [9.59672749e-01, 2.14077216e-02, 1.89195909e-02],\n",
              "       [1.34635372e-02, 8.87618586e-03, 9.77660298e-01],\n",
              "       [4.94054481e-02, 9.24765587e-01, 2.58289985e-02],\n",
              "       [9.77072358e-01, 2.14590915e-02, 1.46857253e-03],\n",
              "       [8.27216357e-03, 1.74580924e-02, 9.74269807e-01],\n",
              "       [1.10794036e-02, 9.83794391e-01, 5.12618246e-03],\n",
              "       [4.34304960e-02, 3.10074445e-02, 9.25562084e-01],\n",
              "       [1.28462598e-01, 8.70662987e-01, 8.74460849e-04],\n",
              "       [1.29070789e-01, 8.44507456e-01, 2.64217462e-02],\n",
              "       [6.42944779e-03, 3.39606889e-02, 9.59609866e-01],\n",
              "       [1.26810633e-02, 9.77421403e-01, 9.89753846e-03],\n",
              "       [3.59265320e-02, 2.91714352e-02, 9.34902072e-01],\n",
              "       [7.79784564e-03, 9.86946940e-01, 5.25521953e-03],\n",
              "       [4.05505598e-02, 3.19996104e-02, 9.27449882e-01],\n",
              "       [7.60195076e-01, 2.20531821e-01, 1.92730725e-02],\n",
              "       [5.32337129e-02, 4.23676409e-02, 9.04398680e-01],\n",
              "       [7.92742148e-03, 1.04152868e-02, 9.81657267e-01],\n",
              "       [1.63603071e-02, 4.75662984e-02, 9.36073422e-01],\n",
              "       [1.38742980e-02, 9.34110023e-03, 9.76784647e-01],\n",
              "       [9.88813579e-01, 3.48094385e-03, 7.70536903e-03],\n",
              "       [9.18158770e-01, 6.85912147e-02, 1.32500380e-02],\n",
              "       [1.46602164e-03, 9.77787852e-01, 2.07461957e-02],\n",
              "       [9.76714909e-01, 4.58205538e-03, 1.87031087e-02],\n",
              "       [9.69446719e-01, 9.88169014e-03, 2.06716098e-02],\n",
              "       [2.95175854e-02, 7.89241586e-03, 9.62589979e-01],\n",
              "       [9.85293463e-03, 9.82072949e-01, 8.07408337e-03],\n",
              "       [3.18258144e-02, 4.60794829e-02, 9.22094703e-01],\n",
              "       [2.43628882e-02, 2.78456621e-02, 9.47791398e-01],\n",
              "       [7.88442418e-02, 1.15666213e-02, 9.09589171e-01],\n",
              "       [3.47512378e-03, 9.18056309e-01, 7.84686208e-02],\n",
              "       [1.81304924e-02, 1.08283982e-02, 9.71041143e-01],\n",
              "       [3.52572128e-02, 4.46726382e-02, 9.20070171e-01],\n",
              "       [2.80466489e-02, 9.65132341e-02, 8.75440121e-01],\n",
              "       [5.62606752e-02, 1.11989602e-02, 9.32540357e-01],\n",
              "       [4.15216014e-03, 3.88584239e-03, 9.91962016e-01],\n",
              "       [2.05375999e-03, 9.96751070e-01, 1.19523180e-03],\n",
              "       [6.80221058e-03, 9.15857017e-01, 7.73408711e-02],\n",
              "       [9.05625150e-03, 1.57850166e-03, 9.89365220e-01],\n",
              "       [9.02082145e-01, 9.41034555e-02, 3.81444488e-03],\n",
              "       [4.31773782e-01, 5.54200232e-01, 1.40259694e-02],\n",
              "       [8.91553879e-01, 1.51616111e-02, 9.32845771e-02],\n",
              "       [9.87061322e-01, 8.07782356e-03, 4.86078672e-03],\n",
              "       [9.87302542e-01, 7.30189774e-03, 5.39554935e-03],\n",
              "       [1.26388585e-02, 4.93080588e-03, 9.82430339e-01],\n",
              "       [1.20382626e-02, 8.35765302e-02, 9.04385209e-01],\n",
              "       [9.95708585e-01, 4.22744500e-03, 6.39441350e-05],\n",
              "       [6.52434165e-03, 9.64454114e-01, 2.90215444e-02],\n",
              "       [3.10517605e-02, 9.29707468e-01, 3.92407998e-02],\n",
              "       [4.68794769e-03, 3.35016064e-02, 9.61810470e-01],\n",
              "       [9.34742451e-01, 3.63927484e-02, 2.88647842e-02],\n",
              "       [4.34612297e-03, 4.06954298e-03, 9.91584301e-01],\n",
              "       [1.16232894e-02, 1.55514181e-02, 9.72825229e-01],\n",
              "       [1.39537275e-01, 8.46224070e-01, 1.42387114e-02],\n",
              "       [1.60291016e-01, 8.25199187e-01, 1.45097580e-02],\n",
              "       [9.88386154e-01, 1.14630470e-02, 1.50803171e-04],\n",
              "       [2.80382819e-02, 4.38327007e-02, 9.28129017e-01],\n",
              "       [9.47554290e-01, 2.55254861e-02, 2.69201696e-02],\n",
              "       [6.73644803e-03, 3.10255997e-02, 9.62238014e-01],\n",
              "       [3.49978777e-03, 1.42305195e-02, 9.82269704e-01],\n",
              "       [8.11595261e-01, 1.65665433e-01, 2.27393173e-02],\n",
              "       [4.76364605e-02, 9.48024154e-01, 4.33938950e-03],\n",
              "       [7.79134687e-03, 9.16909397e-01, 7.52992555e-02],\n",
              "       [2.49391660e-01, 6.19970024e-01, 1.30638257e-01],\n",
              "       [9.89307463e-01, 4.13657259e-03, 6.55604107e-03],\n",
              "       [6.38800906e-03, 9.74210262e-01, 1.94017384e-02],\n",
              "       [4.10702871e-03, 4.63444740e-03, 9.91258562e-01],\n",
              "       [4.72002894e-01, 4.73170191e-01, 5.48269264e-02],\n",
              "       [4.30845795e-03, 1.77587084e-02, 9.77932811e-01],\n",
              "       [1.67092979e-02, 8.06283534e-01, 1.77007213e-01],\n",
              "       [7.25775841e-04, 9.98097003e-01, 1.17717055e-03],\n",
              "       [8.78794432e-01, 3.09371781e-02, 9.02682766e-02],\n",
              "       [9.88069594e-01, 3.43707157e-03, 8.49340204e-03],\n",
              "       [9.48275685e-01, 2.55737565e-02, 2.61505693e-02],\n",
              "       [9.06225741e-01, 5.45478463e-02, 3.92263830e-02],\n",
              "       [9.72581744e-01, 1.16807676e-03, 2.62502041e-02],\n",
              "       [1.18312694e-03, 9.97403681e-01, 1.41316152e-03]], dtype=float32)"
            ]
          },
          "metadata": {
            "tags": []
          },
          "execution_count": 53
        }
      ]
    },
    {
      "cell_type": "markdown",
      "metadata": {
        "id": "u_psFoTeLpHU"
      },
      "source": [
        "## Export the model"
      ]
    },
    {
      "cell_type": "code",
      "metadata": {
        "id": "XaSb5nVzHcVv"
      },
      "source": [
        "RPS_SAVED_MODEL = \"/content/saved_model\""
      ],
      "execution_count": 54,
      "outputs": []
    },
    {
      "cell_type": "markdown",
      "metadata": {
        "id": "fZqRAg1uz1Nu"
      },
      "source": [
        "Export the SavedModel"
      ]
    },
    {
      "cell_type": "code",
      "metadata": {
        "id": "yJMue5YgnwtN",
        "outputId": "06d8ccca-87c6-47bc-a0ea-871eafc30f15",
        "colab": {
          "base_uri": "https://localhost:8080/"
        }
      },
      "source": [
        "# Use TensorFlow's SavedModel API to export the SavedModel from the trained Keras model\n",
        "tf.saved_model.save(model, RPS_SAVED_MODEL)"
      ],
      "execution_count": 55,
      "outputs": [
        {
          "output_type": "stream",
          "text": [
            "WARNING:tensorflow:FOR KERAS USERS: The object that you are saving contains one or more Keras models or layers. If you are loading the SavedModel with `tf.keras.models.load_model`, continue reading (otherwise, you may ignore the following instructions). Please change your code to save with `tf.keras.models.save_model` or `model.save`, and confirm that the file \"keras.metadata\" exists in the export directory. In the future, Keras will only load the SavedModels that have this file. In other words, `tf.saved_model.save` will no longer write SavedModels that can be recovered as Keras models (this will apply in TF 2.5).\n",
            "\n",
            "FOR DEVS: If you are overwriting _tracking_metadata in your class, this property has been used to save metadata in the SavedModel. The metadta field will be deprecated soon, so please move the metadata to a different file.\n"
          ],
          "name": "stdout"
        },
        {
          "output_type": "stream",
          "text": [
            "WARNING:tensorflow:FOR KERAS USERS: The object that you are saving contains one or more Keras models or layers. If you are loading the SavedModel with `tf.keras.models.load_model`, continue reading (otherwise, you may ignore the following instructions). Please change your code to save with `tf.keras.models.save_model` or `model.save`, and confirm that the file \"keras.metadata\" exists in the export directory. In the future, Keras will only load the SavedModels that have this file. In other words, `tf.saved_model.save` will no longer write SavedModels that can be recovered as Keras models (this will apply in TF 2.5).\n",
            "\n",
            "FOR DEVS: If you are overwriting _tracking_metadata in your class, this property has been used to save metadata in the SavedModel. The metadta field will be deprecated soon, so please move the metadata to a different file.\n"
          ],
          "name": "stderr"
        },
        {
          "output_type": "stream",
          "text": [
            "INFO:tensorflow:Assets written to: /content/saved_model/assets\n"
          ],
          "name": "stdout"
        },
        {
          "output_type": "stream",
          "text": [
            "INFO:tensorflow:Assets written to: /content/saved_model/assets\n"
          ],
          "name": "stderr"
        }
      ]
    },
    {
      "cell_type": "markdown",
      "metadata": {
        "id": "uVrnAWjqCMxs"
      },
      "source": [
        "Here you can verify the default signature of your exported SavedModel"
      ]
    },
    {
      "cell_type": "code",
      "metadata": {
        "id": "FY7QGBgBytwX"
      },
      "source": [
        "loaded = tf.saved_model.load(RPS_SAVED_MODEL)"
      ],
      "execution_count": 56,
      "outputs": []
    },
    {
      "cell_type": "code",
      "metadata": {
        "id": "tIhPyMISz952",
        "outputId": "fba54939-a62a-4c80-bf11-2fff5c227375",
        "colab": {
          "base_uri": "https://localhost:8080/"
        }
      },
      "source": [
        "print(list(loaded.signatures.keys()))\n",
        "infer = loaded.signatures[\"serving_default\"]\n",
        "print(infer.structured_input_signature)\n",
        "print(infer.structured_outputs)"
      ],
      "execution_count": 57,
      "outputs": [
        {
          "output_type": "stream",
          "text": [
            "['serving_default']\n",
            "((), {'keras_layer_3_input': TensorSpec(shape=(None, 224, 224, 3), dtype=tf.float32, name='keras_layer_3_input')})\n",
            "{'dense_3': TensorSpec(shape=(None, 3), dtype=tf.float32, name='dense_3')}\n"
          ],
          "name": "stdout"
        }
      ]
    },
    {
      "cell_type": "markdown",
      "metadata": {
        "id": "XxLiLC8n0H16"
      },
      "source": [
        "## Convert with TFLiteConverter"
      ]
    },
    {
      "cell_type": "code",
      "metadata": {
        "id": "WmSr2-yZoUhz"
      },
      "source": [
        "# Intialize the TFLite converter to load the SavedModel\n",
        "converter = tf.lite.TFLiteConverter.from_saved_model(RPS_SAVED_MODEL)\n",
        "# Set the optimization strategy for 'size' in the converter \n",
        "converter.optimizations = [tf.lite.Optimize.DEFAULT]\n",
        "\n",
        "# Use the tool to finally convert the model\n",
        "tflite_model = converter.convert()\n",
        "    \n",
        "with open(\"converted_model.tflite\", \"wb\") as f:\n",
        "  f.write(tflite_model)"
      ],
      "execution_count": 58,
      "outputs": []
    },
    {
      "cell_type": "markdown",
      "metadata": {
        "id": "BbTF6nd1KG2o"
      },
      "source": [
        "Run the following cells to check whether your TFLite model is working using the Python Interpreter"
      ]
    },
    {
      "cell_type": "code",
      "metadata": {
        "id": "dg2NkVTmLUdJ"
      },
      "source": [
        "# Load TFLite model and allocate tensors.\n",
        "tflite_model_file = 'converted_model.tflite'\n",
        "with open(tflite_model_file, 'rb') as fid:\n",
        "  tflite_model = fid.read()\n",
        "  \n",
        "interpreter = tf.lite.Interpreter(model_content=tflite_model)\n",
        "interpreter.allocate_tensors()\n",
        "\n",
        "input_index = interpreter.get_input_details()[0][\"index\"]\n",
        "output_index = interpreter.get_output_details()[0][\"index\"]"
      ],
      "execution_count": 59,
      "outputs": []
    },
    {
      "cell_type": "code",
      "metadata": {
        "id": "snJQVs9JNglv",
        "outputId": "f2361b90-df18-41af-94fc-e681444bf752",
        "colab": {
          "base_uri": "https://localhost:8080/"
        }
      },
      "source": [
        "from tqdm import tqdm\n",
        "\n",
        "# Gather results for the randomly sampled test images\n",
        "predictions = []\n",
        "\n",
        "test_labels, test_imgs = [], []\n",
        "for img, label in tqdm(test_batches.take(10)):\n",
        "  interpreter.set_tensor(input_index, img)\n",
        "  interpreter.invoke()\n",
        "  predictions.append(interpreter.get_tensor(output_index))\n",
        "  \n",
        "  test_labels.append(label.numpy()[0])\n",
        "  test_imgs.append(img)"
      ],
      "execution_count": 60,
      "outputs": [
        {
          "output_type": "stream",
          "text": [
            "100%|██████████| 10/10 [00:08<00:00,  1.14it/s]\n"
          ],
          "name": "stderr"
        }
      ]
    },
    {
      "cell_type": "code",
      "metadata": {
        "id": "sQkj-04qDjFF",
        "outputId": "905c8b62-2ced-4356-d7b9-3eafc40bb4aa",
        "colab": {
          "base_uri": "https://localhost:8080/"
        }
      },
      "source": [
        "predictions"
      ],
      "execution_count": 61,
      "outputs": [
        {
          "output_type": "execute_result",
          "data": {
            "text/plain": [
              "[array([[0.17681108, 0.64216894, 0.18101993]], dtype=float32),\n",
              " array([[0.9758995 , 0.01389091, 0.01020959]], dtype=float32),\n",
              " array([[0.00835026, 0.98529184, 0.00635784]], dtype=float32),\n",
              " array([[0.05224732, 0.60736096, 0.34039184]], dtype=float32),\n",
              " array([[0.01215324, 0.06101513, 0.9268316 ]], dtype=float32),\n",
              " array([[0.00948435, 0.02014831, 0.9703673 ]], dtype=float32),\n",
              " array([[0.02882159, 0.00531832, 0.9658601 ]], dtype=float32),\n",
              " array([[0.00264921, 0.01832136, 0.9790294 ]], dtype=float32),\n",
              " array([[0.01150736, 0.05136007, 0.93713254]], dtype=float32),\n",
              " array([[0.9665254 , 0.02366611, 0.00980856]], dtype=float32)]"
            ]
          },
          "metadata": {
            "tags": []
          },
          "execution_count": 61
        }
      ]
    },
    {
      "cell_type": "code",
      "metadata": {
        "id": "YMTWNqPpNiAI"
      },
      "source": [
        "\n",
        "# Utilities for plotting\n",
        "\n",
        "class_names = ['rock', 'paper', 'scissors']\n",
        "\n",
        "def plot_image(i, predictions_array, true_label, img):\n",
        "  predictions_array, true_label, img = predictions_array[i], true_label[i], img[i]\n",
        "  plt.grid(False)\n",
        "  plt.xticks([])\n",
        "  plt.yticks([])\n",
        "    \n",
        "  img = np.squeeze(img)\n",
        "\n",
        "  plt.imshow(img, cmap=plt.cm.binary)\n",
        "\n",
        "  predicted_label = np.argmax(predictions_array)\n",
        "  if predicted_label == true_label:\n",
        "    color = 'green'\n",
        "  else:\n",
        "    color = 'red'\n",
        "  \n",
        "  plt.xlabel(\"{} {:2.0f}% ({})\".format(class_names[predicted_label],\n",
        "                                100*np.max(predictions_array),\n",
        "                                class_names[true_label]),\n",
        "                                color=color)\n"
      ],
      "execution_count": 62,
      "outputs": []
    },
    {
      "cell_type": "code",
      "metadata": {
        "id": "PGGBU2d6DOfk"
      },
      "source": [
        ""
      ],
      "execution_count": 62,
      "outputs": []
    },
    {
      "cell_type": "code",
      "metadata": {
        "id": "1-lbnicPNkZs",
        "outputId": "45b45642-3bcb-48d5-ea47-284a4e2c65be",
        "colab": {
          "base_uri": "https://localhost:8080/",
          "height": 238
        }
      },
      "source": [
        "index = 3\n",
        "plt.figure(figsize=(6,3))\n",
        "plt.subplot(1,2,1)\n",
        "plot_image(index, predictions, test_labels, test_imgs)\n",
        "plt.show()"
      ],
      "execution_count": 1,
      "outputs": [
        {
          "output_type": "error",
          "ename": "NameError",
          "evalue": "ignored",
          "traceback": [
            "\u001b[0;31m---------------------------------------------------------------------------\u001b[0m",
            "\u001b[0;31mNameError\u001b[0m                                 Traceback (most recent call last)",
            "\u001b[0;32m<ipython-input-1-0c314ea134c2>\u001b[0m in \u001b[0;36m<module>\u001b[0;34m()\u001b[0m\n\u001b[1;32m      1\u001b[0m \u001b[0mindex\u001b[0m \u001b[0;34m=\u001b[0m \u001b[0;36m3\u001b[0m\u001b[0;34m\u001b[0m\u001b[0;34m\u001b[0m\u001b[0m\n\u001b[0;32m----> 2\u001b[0;31m \u001b[0mplt\u001b[0m\u001b[0;34m.\u001b[0m\u001b[0mfigure\u001b[0m\u001b[0;34m(\u001b[0m\u001b[0mfigsize\u001b[0m\u001b[0;34m=\u001b[0m\u001b[0;34m(\u001b[0m\u001b[0;36m6\u001b[0m\u001b[0;34m,\u001b[0m\u001b[0;36m3\u001b[0m\u001b[0;34m)\u001b[0m\u001b[0;34m)\u001b[0m\u001b[0;34m\u001b[0m\u001b[0;34m\u001b[0m\u001b[0m\n\u001b[0m\u001b[1;32m      3\u001b[0m \u001b[0mplt\u001b[0m\u001b[0;34m.\u001b[0m\u001b[0msubplot\u001b[0m\u001b[0;34m(\u001b[0m\u001b[0;36m1\u001b[0m\u001b[0;34m,\u001b[0m\u001b[0;36m2\u001b[0m\u001b[0;34m,\u001b[0m\u001b[0;36m1\u001b[0m\u001b[0;34m)\u001b[0m\u001b[0;34m\u001b[0m\u001b[0;34m\u001b[0m\u001b[0m\n\u001b[1;32m      4\u001b[0m \u001b[0mplot_image\u001b[0m\u001b[0;34m(\u001b[0m\u001b[0mindex\u001b[0m\u001b[0;34m,\u001b[0m \u001b[0mpredictions\u001b[0m\u001b[0;34m,\u001b[0m \u001b[0mtest_labels\u001b[0m\u001b[0;34m,\u001b[0m \u001b[0mtest_imgs\u001b[0m\u001b[0;34m)\u001b[0m\u001b[0;34m\u001b[0m\u001b[0;34m\u001b[0m\u001b[0m\n\u001b[1;32m      5\u001b[0m \u001b[0mplt\u001b[0m\u001b[0;34m.\u001b[0m\u001b[0mshow\u001b[0m\u001b[0;34m(\u001b[0m\u001b[0;34m)\u001b[0m\u001b[0;34m\u001b[0m\u001b[0;34m\u001b[0m\u001b[0m\n",
            "\u001b[0;31mNameError\u001b[0m: name 'plt' is not defined"
          ]
        }
      ]
    },
    {
      "cell_type": "markdown",
      "metadata": {
        "id": "PmZRieHmKLY5"
      },
      "source": [
        "Download the model\n",
        "\n",
        "**NOTE: You might have to run to the cell below twice**"
      ]
    },
    {
      "cell_type": "code",
      "metadata": {
        "id": "0jJAxrQB2VFw",
        "outputId": "a3143da7-1ff3-4d62-ba7c-241a127b33c5",
        "colab": {
          "base_uri": "https://localhost:8080/",
          "height": 16
        }
      },
      "source": [
        "with open('labels.txt', 'w') as f:\n",
        "  f.write('\\n'.join(class_names))\n",
        "\n",
        "\n",
        "try:\n",
        "  from google.colab import files\n",
        "  files.download('converted_model.tflite')  \n",
        "  files.download('labels.txt')\n",
        "except:\n",
        "  pass"
      ],
      "execution_count": 68,
      "outputs": [
        {
          "output_type": "display_data",
          "data": {
            "application/javascript": [
              "\n",
              "    async function download(id, filename, size) {\n",
              "      if (!google.colab.kernel.accessAllowed) {\n",
              "        return;\n",
              "      }\n",
              "      const div = document.createElement('div');\n",
              "      const label = document.createElement('label');\n",
              "      label.textContent = `Downloading \"${filename}\": `;\n",
              "      div.appendChild(label);\n",
              "      const progress = document.createElement('progress');\n",
              "      progress.max = size;\n",
              "      div.appendChild(progress);\n",
              "      document.body.appendChild(div);\n",
              "\n",
              "      const buffers = [];\n",
              "      let downloaded = 0;\n",
              "\n",
              "      const channel = await google.colab.kernel.comms.open(id);\n",
              "      // Send a message to notify the kernel that we're ready.\n",
              "      channel.send({})\n",
              "\n",
              "      for await (const message of channel.messages) {\n",
              "        // Send a message to notify the kernel that we're ready.\n",
              "        channel.send({})\n",
              "        if (message.buffers) {\n",
              "          for (const buffer of message.buffers) {\n",
              "            buffers.push(buffer);\n",
              "            downloaded += buffer.byteLength;\n",
              "            progress.value = downloaded;\n",
              "          }\n",
              "        }\n",
              "      }\n",
              "      const blob = new Blob(buffers, {type: 'application/binary'});\n",
              "      const a = document.createElement('a');\n",
              "      a.href = window.URL.createObjectURL(blob);\n",
              "      a.download = filename;\n",
              "      div.appendChild(a);\n",
              "      a.click();\n",
              "      div.remove();\n",
              "    }\n",
              "  "
            ],
            "text/plain": [
              "<IPython.core.display.Javascript object>"
            ]
          },
          "metadata": {
            "tags": []
          }
        },
        {
          "output_type": "display_data",
          "data": {
            "application/javascript": [
              "download(\"download_695efb8f-893d-46e6-9920-1ed7f4580098\", \"converted_model.tflite\", 2651792)"
            ],
            "text/plain": [
              "<IPython.core.display.Javascript object>"
            ]
          },
          "metadata": {
            "tags": []
          }
        },
        {
          "output_type": "display_data",
          "data": {
            "application/javascript": [
              "\n",
              "    async function download(id, filename, size) {\n",
              "      if (!google.colab.kernel.accessAllowed) {\n",
              "        return;\n",
              "      }\n",
              "      const div = document.createElement('div');\n",
              "      const label = document.createElement('label');\n",
              "      label.textContent = `Downloading \"${filename}\": `;\n",
              "      div.appendChild(label);\n",
              "      const progress = document.createElement('progress');\n",
              "      progress.max = size;\n",
              "      div.appendChild(progress);\n",
              "      document.body.appendChild(div);\n",
              "\n",
              "      const buffers = [];\n",
              "      let downloaded = 0;\n",
              "\n",
              "      const channel = await google.colab.kernel.comms.open(id);\n",
              "      // Send a message to notify the kernel that we're ready.\n",
              "      channel.send({})\n",
              "\n",
              "      for await (const message of channel.messages) {\n",
              "        // Send a message to notify the kernel that we're ready.\n",
              "        channel.send({})\n",
              "        if (message.buffers) {\n",
              "          for (const buffer of message.buffers) {\n",
              "            buffers.push(buffer);\n",
              "            downloaded += buffer.byteLength;\n",
              "            progress.value = downloaded;\n",
              "          }\n",
              "        }\n",
              "      }\n",
              "      const blob = new Blob(buffers, {type: 'application/binary'});\n",
              "      const a = document.createElement('a');\n",
              "      a.href = window.URL.createObjectURL(blob);\n",
              "      a.download = filename;\n",
              "      div.appendChild(a);\n",
              "      a.click();\n",
              "      div.remove();\n",
              "    }\n",
              "  "
            ],
            "text/plain": [
              "<IPython.core.display.Javascript object>"
            ]
          },
          "metadata": {
            "tags": []
          }
        },
        {
          "output_type": "display_data",
          "data": {
            "application/javascript": [
              "download(\"download_3163ee3b-7041-4781-9650-47ead4fe60c1\", \"labels.txt\", 19)"
            ],
            "text/plain": [
              "<IPython.core.display.Javascript object>"
            ]
          },
          "metadata": {
            "tags": []
          }
        }
      ]
    },
    {
      "cell_type": "markdown",
      "metadata": {
        "id": "BDlmpjC6VnFZ"
      },
      "source": [
        "# Prepare the test images for download (Optional)"
      ]
    },
    {
      "cell_type": "markdown",
      "metadata": {
        "id": "_1ja_WA0WZOH"
      },
      "source": [
        "This part involves downloading additional test images for the Mobile Apps only in case you need to try out more samples"
      ]
    },
    {
      "cell_type": "code",
      "metadata": {
        "id": "fzLKEBrfTREA"
      },
      "source": [
        "!mkdir -p test_images"
      ],
      "execution_count": null,
      "outputs": []
    },
    {
      "cell_type": "code",
      "metadata": {
        "id": "Qn7ukNQCSewb"
      },
      "source": [
        "from PIL import Image\n",
        "\n",
        "for index, (image, label) in enumerate(test_batches.take(50)):\n",
        "  image = tf.cast(image * 255.0, tf.uint8)\n",
        "  image = tf.squeeze(image).numpy()\n",
        "  pil_image = Image.fromarray(image)\n",
        "  pil_image.save('test_images/{}_{}.jpg'.format(class_names[label[0]], index))"
      ],
      "execution_count": null,
      "outputs": []
    },
    {
      "cell_type": "code",
      "metadata": {
        "id": "xVKKWUG8UMO5"
      },
      "source": [
        "!ls test_images"
      ],
      "execution_count": null,
      "outputs": []
    },
    {
      "cell_type": "code",
      "metadata": {
        "id": "l_w_-UdlS9Vi"
      },
      "source": [
        "!zip -qq rps_test_images.zip -r test_images/"
      ],
      "execution_count": null,
      "outputs": []
    },
    {
      "cell_type": "code",
      "metadata": {
        "id": "Giva6EHwWm6Y"
      },
      "source": [
        "try:\n",
        "  files.download('rps_test_images.zip')\n",
        "except:\n",
        "  pass"
      ],
      "execution_count": null,
      "outputs": []
    }
  ]
}